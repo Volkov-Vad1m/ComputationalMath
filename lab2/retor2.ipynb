{
 "cells": [
  {
   "cell_type": "markdown",
   "metadata": {},
   "source": [
    "# Лабораторная работа 2 \n",
    "Выполнил: Волков Вадим, Б01-007.\n",
    "Исходный код [здесь](https://github.com/Volkov-Vad1m/ComputationalMath) \n",
    "## Ход работы\n",
    "### Определение методов для решения задачи\n",
    "Для начала определим класс __SlaeSolver__. Для класса определены статические методы, позволяющие решить СЛАУ разными способами. "
   ]
  },
  {
   "cell_type": "code",
   "execution_count": 1,
   "metadata": {},
   "outputs": [],
   "source": [
    "EPSILON = 1E-15\n",
    "import numpy as np\n",
    "\n",
    "class SlaeSolver :\n",
    "\n",
    "    #Прямой ход\n",
    "    def _forward_elimination(A, F): \n",
    "        n = len(A)\n",
    "\n",
    "        for i in range(0, n):\n",
    "            #выбираем элемент\n",
    "            for j in range(i + 1, n):\n",
    "                if A[j][i] > A[i][i]:\n",
    "                    A[i], A[j] = A[j], A[i]\n",
    "                    F[i], F[j] = F[j], F[i]\n",
    "            \n",
    "            for j in range(i + 1, n):\n",
    "                F[j] -= F[i] * (A[j][i] / A[i][i])\n",
    "                A[j] -= A[i] * (A[j][i] / A[i][i])\n",
    "\n",
    "            F[i] /= A[i][i]\n",
    "            A[i] /= A[i][i]\n",
    "\n",
    "        return A, F    \n",
    "\n",
    "    #обратный ход\n",
    "    def _back_substitution(A, F):\n",
    "        n = len(A)\n",
    "        \n",
    "        solution = [0 for _ in range(n)]\n",
    "        \n",
    "        # хоть и после _forward_elimination диагональные элементы нормированы,\n",
    "        # все равно делаем это заново, вдруг метод будет вызван не из gauss_solve.\n",
    "        solution[n-1] = F[n-1] / A[n-1][n-1]\n",
    "\n",
    "        for i in range(n-2, -1, -1):\n",
    "            solution[i] = 1 / A[i][i] * (F[i] - np.matmul(A[i], solution))\n",
    "\n",
    "        return solution\n",
    "\n",
    "\n",
    "    @staticmethod\n",
    "    def gauss_solve(A, F):\n",
    "        copyA = A.copy()\n",
    "        copyF = F.copy()\n",
    "        \n",
    "        copyA, copyF = SlaeSolver._forward_elimination(copyA, copyF)\n",
    "\n",
    "        return SlaeSolver._back_substitution(copyA, copyF)\n",
    "\n",
    "\n",
    "    def _LU_decompose(A):\n",
    "        n = len(A)\n",
    "        L = np.zeros((n, n))\n",
    "        U = np.zeros((n, n))\n",
    "\n",
    "        for i in range(0, n):\n",
    "            L[i][i] = 1\n",
    "\n",
    "        for i in range(0, n):\n",
    "            for j in range(0, n):\n",
    "                sum = 0\n",
    "                if i <= j:\n",
    "                    for k in range(0, i):\n",
    "                        sum += L[i][k] * U[k][j]\n",
    "                    U[i][j] = A[i][j] - sum\n",
    "                if i > j:\n",
    "                    for k in range(0, j):\n",
    "                        sum += L[i][k] * U[k][j]\n",
    "                    L[i][j] = (A[i][j] - sum) / U[j][j]\n",
    "\n",
    "        return L, U\n",
    "\n",
    "    @staticmethod\n",
    "    def LU_solve(A, F):\n",
    "        copyF = F.copy()\n",
    "\n",
    "        L, U = SlaeSolver._LU_decompose(A)\n",
    "\n",
    "        SlaeSolver._forward_elimination(L, copyF)\n",
    "        return SlaeSolver._back_substitution(U, copyF)\n",
    "\n",
    "\n",
    "    @staticmethod\n",
    "    def upper_relaxation_solve(A, F, param):\n",
    "        n = len(A)\n",
    "        copyA = A.copy()\n",
    "        copyF = F.copy()\n",
    "\n",
    "        L = np.zeros((n, n))\n",
    "        D = np.zeros((n, n))\n",
    "        U = np.zeros((n, n))\n",
    "\n",
    "        for i in range(0,n):\n",
    "            for j in range(0,n):\n",
    "                if i == j:\n",
    "                    D[i][j] = A[i][j]\n",
    "                elif i > j:\n",
    "                    L[i][j] = A[i][j]\n",
    "                else:\n",
    "                    U[i][j] = A[i][j]\n",
    "\n",
    "        inv = np.linalg.inv(D + param * L)\n",
    "        B = - np.matmul(inv, (param - 1) * D + param * U)\n",
    "        f = np.matmul(param * inv, F)\n",
    "\n",
    "        x = np.array([0.5 for i in range (0, n)])\n",
    "\n",
    "    \n",
    "        while np.linalg.norm(copyF - np.matmul(copyA, x)) > EPSILON:\n",
    "            x = np.matmul(B, x) + f\n",
    "\n",
    "\n",
    "        return x"
   ]
  },
  {
   "cell_type": "markdown",
   "metadata": {},
   "source": [
    "Определим функцию __checkLU()__(уже вне класса), позволяющая узнать возможность LU разложения."
   ]
  },
  {
   "cell_type": "code",
   "execution_count": 2,
   "metadata": {},
   "outputs": [],
   "source": [
    "def checkLU(matrix):\n",
    "    for i in range(0, n):\n",
    "        mat_i = np.array([lines[0: i + 1] for lines in matrix[0: i + 1]])\n",
    "        if not np.linalg.det(mat_i):\n",
    "            return False\n",
    "    return True"
   ]
  },
  {
   "cell_type": "markdown",
   "metadata": {},
   "source": [
    "Определим функции, для нахождения максимального и минимального собственных чисел матрицы (Степенной метод)"
   ]
  },
  {
   "cell_type": "code",
   "execution_count": 3,
   "metadata": {},
   "outputs": [],
   "source": [
    "# получить максимальное и минимальное собственные значения\n",
    "def get_eigen_values(matrix):\n",
    "    return get_eigen_max(matrix), 1/get_eigen_max(np.linalg.inv(matrix))\n",
    "\n",
    "\n",
    "# получить максимальное собственное значение\n",
    "def get_eigen_max(matrix):\n",
    "    y_prev = np.array([0.1 for i in range (0, len(matrix))])\n",
    "    y_cur = np.matmul(matrix, y_prev)\n",
    "\n",
    "    eps = 1e-6\n",
    "    # lim (y_cur/y_prev) = lambda_max\n",
    "    while (np.linalg.norm(np.matmul(matrix, y_cur))) / np.linalg.norm( y_cur) - np.linalg.norm( y_cur) / np.linalg.norm(y_prev) > eps:\n",
    "        y_prev = y_cur\n",
    "        y_cur = np.matmul(matrix, y_cur)\n",
    "\n",
    "    return np.linalg.norm(np.matmul(matrix, y_cur)) / np.linalg.norm(y_cur)\n",
    "\n",
    "# число обусловленностей\n",
    "def get_condition_number(matrix):\n",
    "    return np.linalg.norm(matrix) * np.linalg.norm(np.transpose(matrix))\n"
   ]
  },
  {
   "cell_type": "markdown",
   "metadata": {},
   "source": [
    "### Задание матрицы\n",
    "Матрицы из пункта __(к)__"
   ]
  },
  {
   "cell_type": "code",
   "execution_count": 4,
   "metadata": {},
   "outputs": [
    {
     "name": "stdout",
     "output_type": "stream",
     "text": [
      "[[1.         0.33333333 0.25       0.2        0.16666667 0.14285714\n",
      "  0.125      0.11111111 0.1        0.09090909]\n",
      " [0.33333333 1.         0.2        0.16666667 0.14285714 0.125\n",
      "  0.11111111 0.1        0.09090909 0.08333333]\n",
      " [0.25       0.2        1.         0.14285714 0.125      0.11111111\n",
      "  0.1        0.09090909 0.08333333 0.07692308]\n",
      " [0.2        0.16666667 0.14285714 1.         0.11111111 0.1\n",
      "  0.09090909 0.08333333 0.07692308 0.07142857]\n",
      " [0.16666667 0.14285714 0.125      0.11111111 1.         0.09090909\n",
      "  0.08333333 0.07692308 0.07142857 0.06666667]\n",
      " [0.14285714 0.125      0.11111111 0.1        0.09090909 1.\n",
      "  0.07692308 0.07142857 0.06666667 0.0625    ]\n",
      " [0.125      0.11111111 0.1        0.09090909 0.08333333 0.07692308\n",
      "  1.         0.06666667 0.0625     0.05882353]\n",
      " [0.11111111 0.1        0.09090909 0.08333333 0.07692308 0.07142857\n",
      "  0.06666667 1.         0.05882353 0.05555556]\n",
      " [0.1        0.09090909 0.08333333 0.07692308 0.07142857 0.06666667\n",
      "  0.0625     0.05882353 1.         0.05263158]\n",
      " [0.09090909 0.08333333 0.07692308 0.07142857 0.06666667 0.0625\n",
      "  0.05882353 0.05555556 0.05263158 1.        ]]\n"
     ]
    }
   ],
   "source": [
    "n = 10\n",
    "\n",
    "matrix = np.zeros((n,n))\n",
    "\n",
    "for i in range(0, n):\n",
    "    for j in range(0, n):\n",
    "        if i==j:\n",
    "            matrix[i][j] = 1\n",
    "        else: \n",
    "            matrix[i][j] = 1 / (i + j + 2)\n",
    "\n",
    "vector = np.array( [(1 / (1+i) ) for i in range(0, n)])\n",
    "\n",
    "print(matrix)"
   ]
  },
  {
   "cell_type": "markdown",
   "metadata": {},
   "source": [
    "### Результаты"
   ]
  },
  {
   "cell_type": "markdown",
   "metadata": {},
   "source": [
    "#### Собственные значения и число обусловленности"
   ]
  },
  {
   "cell_type": "code",
   "execution_count": 5,
   "metadata": {},
   "outputs": [
    {
     "name": "stdout",
     "output_type": "stream",
     "text": [
      "\n",
      "Собственные значения степенным методом\n",
      "\n",
      "lambda_max: 2.0483598248745563\n",
      "lambda_min: 0.6579603452710897\n"
     ]
    }
   ],
   "source": [
    "max, min = get_eigen_values(matrix)\n",
    "print(\"\\nСобственные значения степенным методом\\n\")\n",
    "print(\"lambda_max:\", max)\n",
    "print(\"lambda_min:\", min)"
   ]
  },
  {
   "cell_type": "code",
   "execution_count": 6,
   "metadata": {},
   "outputs": [
    {
     "name": "stdout",
     "output_type": "stream",
     "text": [
      "\n",
      "Собственные значения через numpy\n",
      "\n",
      "lambda_max: 2.048359926977445\n",
      "lambda_min: 0.6579597538101791\n"
     ]
    }
   ],
   "source": [
    "print(\"\\nСобственные значения через numpy\\n\")\n",
    "eigs, v = np.linalg.eig(matrix)\n",
    "eigs.sort()\n",
    "print(\"lambda_max:\", eigs[9])\n",
    "print(\"lambda_min:\", eigs[0])"
   ]
  },
  {
   "cell_type": "code",
   "execution_count": 7,
   "metadata": {},
   "outputs": [
    {
     "name": "stdout",
     "output_type": "stream",
     "text": [
      "\n",
      "Число обусловленности матрицы\n",
      "\n",
      "11.29729295451079\n"
     ]
    }
   ],
   "source": [
    "print(\"\\nЧисло обусловленности матрицы\\n\")\n",
    "print(get_condition_number(matrix))"
   ]
  },
  {
   "cell_type": "code",
   "execution_count": 8,
   "metadata": {},
   "outputs": [
    {
     "name": "stdout",
     "output_type": "stream",
     "text": [
      "\n",
      "Критерий останова: |Ax - f| < eps = 1e-15\n"
     ]
    }
   ],
   "source": [
    "print(\"\\nКритерий останова: |Ax - f| < eps =\", EPSILON)"
   ]
  },
  {
   "cell_type": "markdown",
   "metadata": {},
   "source": [
    "#### LU метод"
   ]
  },
  {
   "cell_type": "code",
   "execution_count": 9,
   "metadata": {},
   "outputs": [
    {
     "name": "stdout",
     "output_type": "stream",
     "text": [
      "\n",
      "Проверка на LU\n",
      "\n",
      "True\n"
     ]
    }
   ],
   "source": [
    "print(\"\\nПроверка на LU\\n\")\n",
    "print(checkLU(matrix))"
   ]
  },
  {
   "cell_type": "code",
   "execution_count": 10,
   "metadata": {},
   "outputs": [
    {
     "name": "stdout",
     "output_type": "stream",
     "text": [
      "\n",
      "LU разложение\n",
      "\n",
      "Корень системы:\n",
      " [0.9190771092669204, 0.17554017049308804, 0.06393482401444074, 0.027274763960845518, 0.011423468535554548, 0.0035108392787171114, -0.0007899578138555328, -0.003250801449485299, -0.004697877810511589, -0.005553739941265921]\n",
      "Невязка метода:  5.1925927263190304e-17\n"
     ]
    }
   ],
   "source": [
    "print(\"\\nLU разложение\\n\")\n",
    "x = SlaeSolver.LU_solve(matrix, vector)\n",
    "print(\"Корень системы:\\n\", x)\n",
    "print(\"Невязка метода: \", np.linalg.norm(vector - np.matmul(matrix, x)))"
   ]
  },
  {
   "cell_type": "markdown",
   "metadata": {},
   "source": [
    "#### Метод Гаусса"
   ]
  },
  {
   "cell_type": "code",
   "execution_count": 11,
   "metadata": {},
   "outputs": [
    {
     "name": "stdout",
     "output_type": "stream",
     "text": [
      "Метод Гаусса\n",
      "\n",
      "Корень системы:\n",
      " [0.9190771092669204, 0.17554017049308804, 0.06393482401444074, 0.027274763960845518, 0.011423468535554548, 0.003510839278717111, -0.0007899578138555333, -0.0032508014494852986, -0.004697877810511589, -0.005553739941265921]\n",
      "Невязка метода:  5.1925927263190304e-17\n"
     ]
    }
   ],
   "source": [
    "print(\"Метод Гаусса\\n\")\n",
    "x = SlaeSolver.gauss_solve(matrix, vector)\n",
    "print(\"Корень системы:\\n\", x)\n",
    "print(\"Невязка метода: \", np.linalg.norm(vector - np.matmul(matrix, x)))"
   ]
  },
  {
   "cell_type": "markdown",
   "metadata": {},
   "source": [
    "#### Метод верхней релаксации"
   ]
  },
  {
   "cell_type": "code",
   "execution_count": 12,
   "metadata": {},
   "outputs": [
    {
     "name": "stdout",
     "output_type": "stream",
     "text": [
      "\n",
      "Метод верхней релаксации\n",
      "\n",
      "Корень системы:\n",
      " [ 9.19077109e-01  1.75540170e-01  6.39348240e-02  2.72747640e-02\n",
      "  1.14234685e-02  3.51083928e-03 -7.89957814e-04 -3.25080145e-03\n",
      " -4.69787781e-03 -5.55373994e-03]\n",
      "Невязка метода:  7.958884084524424e-16\n"
     ]
    }
   ],
   "source": [
    "print(\"\\nМетод верхней релаксации\\n\")\n",
    "x = SlaeSolver.upper_relaxation_solve(matrix, vector, 1.5)\n",
    "print(\"Корень системы:\\n\", x)\n",
    "print(\"Невязка метода: \", np.linalg.norm(vector - np.matmul(matrix, x)))"
   ]
  },
  {
   "cell_type": "markdown",
   "metadata": {},
   "source": [
    "#### Метод из numpy"
   ]
  },
  {
   "cell_type": "code",
   "execution_count": 13,
   "metadata": {},
   "outputs": [
    {
     "name": "stdout",
     "output_type": "stream",
     "text": [
      "\n",
      "Метод из numpy\n",
      "\n",
      "Корень системы:\n",
      " [ 9.19077109e-01  1.75540170e-01  6.39348240e-02  2.72747640e-02\n",
      "  1.14234685e-02  3.51083928e-03 -7.89957814e-04 -3.25080145e-03\n",
      " -4.69787781e-03 -5.55373994e-03]\n",
      "Невязка метода:  2.342840229615247e-16\n"
     ]
    }
   ],
   "source": [
    "print(\"\\nМетод из numpy\\n\")\n",
    "x = np.linalg.solve(matrix, vector)\n",
    "print(\"Корень системы:\\n\", x)\n",
    "print(\"Невязка метода: \", np.linalg.norm(vector - np.matmul(matrix, x)))"
   ]
  },
  {
   "cell_type": "markdown",
   "metadata": {},
   "source": [
    "Как мы видим, решения, полученные написанными мной методами, совпадают с решением через  numpy"
   ]
  },
  {
   "cell_type": "code",
   "execution_count": null,
   "metadata": {},
   "outputs": [],
   "source": []
  }
 ],
 "metadata": {
  "kernelspec": {
   "display_name": "Python 3",
   "language": "python",
   "name": "python3"
  },
  "language_info": {
   "codemirror_mode": {
    "name": "ipython",
    "version": 3
   },
   "file_extension": ".py",
   "mimetype": "text/x-python",
   "name": "python",
   "nbconvert_exporter": "python",
   "pygments_lexer": "ipython3",
   "version": "3.8.10"
  }
 },
 "nbformat": 4,
 "nbformat_minor": 4
}
