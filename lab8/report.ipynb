{
 "cells": [
  {
   "cell_type": "code",
   "execution_count": 1,
   "metadata": {},
   "outputs": [],
   "source": [
    "import numpy as np\n",
    "import matplotlib.pyplot as plt\n",
    "\n",
    "EPSILON = 1e-6"
   ]
  },
  {
   "cell_type": "markdown",
   "metadata": {},
   "source": [
    "# Уравнение\n",
    "$\\frac{\\mathrm{d^2}y}{\\mathrm{d}x^2} + \\frac{0.5}{1-0.5y}(\\frac{\\mathrm{d}y}{\\mathrm{d}x})^2 = 0$  \n",
    "$ y(0) = y_0;  y(1) = 0$     \n",
    "$ y_0 = 0.25; 0.5; 1; 1.5; 1.8; 1.9; 1.95 $"
   ]
  },
  {
   "cell_type": "markdown",
   "metadata": {},
   "source": [
    "Перепишем уравнение в виде системы:  \n",
    "$ \\frac{\\mathrm{d}y}{\\mathrm{d}x} = u $  \n",
    "$ \\frac{\\mathrm{d}u}{\\mathrm{d}x} = \\frac{u^2}{y-2} $  \n",
    "$ y(0) = y_0;  y(1) = 0$\n"
   ]
  },
  {
   "cell_type": "code",
   "execution_count": 2,
   "metadata": {},
   "outputs": [],
   "source": [
    "def f(t, w):\n",
    "    y = w[0]\n",
    "    u = w[1]\n",
    "    return np.array([u, u**2 / (y-2)])"
   ]
  },
  {
   "cell_type": "markdown",
   "metadata": {},
   "source": [
    "# Идея\n",
    "У нас есть уравнение:  \n",
    "$ y'' = f(x, y, y') $  \n",
    "$ y(0) = y_0 $  \n",
    "$ y(L) = y_1 $  \n",
    "Но вместо этого прекрасного уравнения будем решать немного другую задачу:  \n",
    "$ y'' = f(x, y, y') $  \n",
    "$ y(0) = y_0 $  \n",
    "$ y'(0) = \\alpha $  \n",
    "Далее, решаем эту задачу и получаем решение $y(x,\\alpha)$  \n",
    "Нам надо определить такой параметр $\\alpha$, при котором $y(L, \\alpha_0) = y_1 $  \n",
    "Как найти $\\alpha0$?  \n",
    "Нужно решить уравнение $F(\\alpha) = y(x, \\alpha) - y_1 = 0$. Однако возникают трудности с тем, что $F$ задано не аналитически. Трудности с поиском производной в методе Ньютона  \n",
    "Что делаем в таком случае?  \n",
    "Перепишем уравнение в виде системы:  \n",
    "$u' = f(x, y, u) $  \n",
    "$y' = u $  \n",
    "$y(0) = y_0 $  \n",
    "$u(0) = \\alpha $    \n",
    "Дифференцируем по $\\alpha$\n",
    "\n",
    "$\\frac{d}{dx} \\left(\\frac{\\partial u}{\\partial \\alpha} \\right) = \\frac{\\partial f}{\\partial y} \\frac{\\partial y}{\\partial \\alpha} + \\frac{\\partial f}{\\partial u} \\frac{\\partial u}{\\partial \\alpha} $  \n",
    "$\\frac{d}{dx} \\left(\\frac{\\partial y}{\\partial \\alpha} \\right) = \\frac{\\partial u}{\\partial \\alpha} $  \n",
    "$\\frac{\\partial y}{\\partial \\alpha}(0) = 0 $  \n",
    "$\\frac{\\partial u}{\\partial \\alpha}(0) = 1 $  \n",
    "\n",
    "Делаем замену\n",
    "\n",
    "$\\frac{dA}{dx} = B $    \n",
    "$\\frac{dB}{dx} = A \\frac{\\partial f}{\\partial y} + B \\frac{\\partial f}{\\partial u} $     \n",
    "$A(0) = 0 $  \n",
    "$B(0) = 1$  \n",
    "Решаем эту систему, и теперь можно воспользоваться методом Ньютона:\n",
    "\n",
    "$\\alpha_{n+1} = \\alpha_n - \\frac{F(\\alpha_n)}{\\frac{\\partial y}{\\partial \\alpha}(\\alpha_n)}$"
   ]
  },
  {
   "cell_type": "code",
   "execution_count": 3,
   "metadata": {},
   "outputs": [],
   "source": [
    "# Используем метод РК из 6 лабы\n",
    "def runge_kutta_step(f, h, t, w):\n",
    "\n",
    "    k1 = f(t, w)\n",
    "    k2 = f(t + h/2, w + h * k1/2)\n",
    "    k3 = f(t + h/2, w + h * k2/2)\n",
    "    k4 = f(t + h, w + h * k3)\n",
    "    w_new = w + h * (k1 + 2* k2 + 2*k3 + k4) / 6\n",
    "\n",
    "    return w_new"
   ]
  },
  {
   "cell_type": "markdown",
   "metadata": {},
   "source": [
    "Решаем систему для $y$ и $u$ и для $A$ и $B$ одновременно"
   ]
  },
  {
   "cell_type": "code",
   "execution_count": 4,
   "metadata": {},
   "outputs": [],
   "source": [
    "def get_solution(f, h, t0, tn, w0):\n",
    "    n = int((tn - t0) / h)\n",
    "     # Initialize arrays for t and w\n",
    "    t = np.zeros(n+1)\n",
    "    w = np.zeros((n+1, 2))\n",
    "    w[0] = w0\n",
    "\n",
    "\n",
    "    ab = np.zeros((n+1, 2))\n",
    "    ab[0] = np.array([0, 1])\n",
    "\n",
    "    for i in range(n):\n",
    "        w[i+1] = runge_kutta_step(f, h, t[i], w[i])\n",
    "\n",
    "\n",
    "        yi, ui = w[i]\n",
    "        df_dy = (-ui**2)/(yi - 2)**2\n",
    "        df_du = 2*ui / (yi - 2)\n",
    "\n",
    "        def g(t, ab):\n",
    "            A = ab[0]\n",
    "            B = ab[1]\n",
    "            return np.array([B, A*df_dy + B*df_du])\n",
    "\n",
    "        ab[i+1] = runge_kutta_step(g, h, t[i], ab[i])\n",
    "        \n",
    "        t[i+1] = t[i] + h\n",
    "\n",
    "    A, B = ab.T\n",
    "    return (w, A[-1])"
   ]
  },
  {
   "cell_type": "markdown",
   "metadata": {},
   "source": [
    "И наконец, финальный метод. Ищем $\\alpha$"
   ]
  },
  {
   "cell_type": "code",
   "execution_count": 5,
   "metadata": {},
   "outputs": [],
   "source": [
    "def shooting(f, h, t0, tn, y0, alpha0):\n",
    "    w0 = np.array([y0, alpha0])\n",
    "\n",
    "    res = get_solution(f, h, t0, tn, w0)\n",
    "    w = res[0]\n",
    "    y, u = w.T\n",
    "\n",
    "    df = res[1]\n",
    "    y_L = y[-1]\n",
    "\n",
    "    prev = 0\n",
    "    next = alpha0\n",
    "    \n",
    "    while (abs(y_L) > EPSILON):\n",
    "        prev = next\n",
    "        next = prev - y_L/df\n",
    "        \n",
    "        res = get_solution(f, h, t0, tn, np.array([y0, next]))\n",
    "        y, u = res[0].T\n",
    "\n",
    "        df = res[1]\n",
    "        y_L = y[-1]\n",
    "    \n",
    "    return y, next"
   ]
  },
  {
   "cell_type": "markdown",
   "metadata": {},
   "source": [
    "Результаты"
   ]
  },
  {
   "cell_type": "code",
   "execution_count": 6,
   "metadata": {},
   "outputs": [
    {
     "data": {
      "image/png": "[encoded data removed]",
      "text/plain": [
       "<Figure size 640x480 with 1 Axes>"
      ]
     },
     "metadata": {},
     "output_type": "display_data"
    },
    {
     "name": "stdout",
     "output_type": "stream",
     "text": [
      "alpha = -0.6931471818264804\n"
     ]
    }
   ],
   "source": [
    "x0 = 0\n",
    "xn = 1\n",
    "h = 0.01\n",
    "y0 = 1.5\n",
    "\n",
    "alpha0 = -1\n",
    "y, alpha = shooting(f, h, x0, xn, y0, alpha0)\n",
    "\n",
    "x = np.linspace(x0, xn, int((xn-x0)/h+1))\n",
    "plt.plot(x, y)\n",
    "plt.title('Решение')\n",
    "plt.ylabel('y')\n",
    "plt.xlabel('x')\n",
    "plt.grid()\n",
    "plt.show()\n",
    "print('alpha = ' + str(alpha))"
   ]
  }
 ],
 "metadata": {
  "kernelspec": {
   "display_name": "Python 3 (ipykernel)",
   "language": "python",
   "name": "python3"
  },
  "language_info": {
   "codemirror_mode": {
    "name": "ipython",
    "version": 3
   },
   "file_extension": ".py",
   "mimetype": "text/x-python",
   "name": "python",
   "nbconvert_exporter": "python",
   "pygments_lexer": "ipython3",
   "version": "3.10.6"
  }
 },
 "nbformat": 4,
 "nbformat_minor": 2
}
