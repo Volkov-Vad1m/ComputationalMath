{
 "cells": [
  {
   "cell_type": "markdown",
   "metadata": {},
   "source": [
    "# Лабораторная работа 4 \n",
    "Выполнил: Волков Вадим, Б01-007.\n",
    "Исходный код [здесь](https://github.com/Volkov-Vad1m/ComputationalMath) \n",
    "## Ход работы\n",
    "### Данные"
   ]
  },
  {
   "cell_type": "code",
   "execution_count": 1,
   "metadata": {},
   "outputs": [],
   "source": [
    "import numpy as np\n",
    "import math\n",
    "import matplotlib.pyplot as plt\n",
    "\n",
    "\n",
    "\n",
    "years = [1910, 1920, 1930, 1940, 1950, 1960, 1970, 1980, 1990, 2000]\n",
    "people = [92228496, 106021537, 123202624, 132164569, 151325798, 179323175, 203211926, 226545805, 248709873, 281421906]"
   ]
  },
  {
   "cell_type": "markdown",
   "metadata": {},
   "source": [
    "### Метод Ньютона"
   ]
  },
  {
   "cell_type": "code",
   "execution_count": 2,
   "metadata": {},
   "outputs": [],
   "source": [
    "class NewtonPolynom:\n",
    "    def __init__(self, x, y):\n",
    "        self.x = x\n",
    "        self.y = y\n",
    "        self.coeffs = self.__polynom_coeff(x, y)\n",
    "\n",
    "#функция подсчета разделенных разностей\n",
    "    def __polynom_coeff(self, x, y):\n",
    "        n = len(x)\n",
    "        coeffs = np.zeros((n, n))\n",
    "\n",
    "        coeffs[0,:] = y\n",
    "        \n",
    "        for i in range(n-1):\n",
    "            for j in range(n-1-i):\n",
    "                coeffs[i+1][j] = (coeffs[i][j+1] - coeffs[i][j]) / (x[j+i+1] - x[j])\n",
    "\n",
    "        return coeffs\n",
    "\n",
    "#метод задающий полином\n",
    "    def calc(self, t):\n",
    "        poly = 1\n",
    "        value = 0.0\n",
    "\n",
    "        for i in range(len(self.x)):\n",
    "            value += self.coeffs[i][0] * poly\n",
    "            poly = poly * (t - self.x[i])\n",
    "\n",
    "        return value"
   ]
  },
  {
   "cell_type": "markdown",
   "metadata": {},
   "source": [
    "Построим график:"
   ]
  },
  {
   "cell_type": "code",
   "execution_count": 3,
   "metadata": {},
   "outputs": [
    {
     "data": {
      "image/png": "[encoded data removed]",
      "text/plain": [
       "<Figure size 432x288 with 1 Axes>"
      ]
     },
     "metadata": {
      "needs_background": "light"
     },
     "output_type": "display_data"
    },
    {
     "name": "stdout",
     "output_type": "stream",
     "text": [
      "Прогноз на 2010:  827906509\n"
     ]
    }
   ],
   "source": [
    "polynom = NewtonPolynom(years, people)\n",
    "\n",
    "points = np.linspace(1900, 2010, 1000)\n",
    "\n",
    "plt.scatter(years, people)\n",
    "plt.scatter(2010, polynom.calc(2010))\n",
    "\n",
    "plt.plot(points, polynom.calc(points))\n",
    "plt.grid()\n",
    "plt.show()\n",
    "print(\"Прогноз на 2010: \", round(polynom.calc(2010)))"
   ]
  },
  {
   "cell_type": "markdown",
   "metadata": {},
   "source": [
    "### Сплайн"
   ]
  },
  {
   "cell_type": "code",
   "execution_count": 4,
   "metadata": {},
   "outputs": [],
   "source": [
    "class Spline:\n",
    "    def __init__(self, a, b, c, d, xi):\n",
    "        self.a = a\n",
    "        self.b = b\n",
    "        self.c = c\n",
    "        self.d = d\n",
    "        self.xi = xi\n",
    "\n",
    "    def calc(self, t):\n",
    "        return self.a  + self.b * (t - self.xi) + self.c * (t - self.xi)**2 + self.d * (t - self.xi)**3       \n",
    "\n",
    "\n",
    "class Splines:\n",
    "    def __init__(self, x, y):\n",
    "        self.x = x\n",
    "        self.y = y\n",
    "\n",
    "        self.n = len(x)\n",
    "\n",
    "        self.splines = [Spline(y[i], 0, 0, 0, x[i]) for i in range(self.n)]\n",
    "\n",
    "    def __solve_c(self):\n",
    "\n",
    "        alpha = np.full(self.n-1, 0)\n",
    "        beta = np.full(self.n-1, 0)\n",
    "\n",
    "        self.splines[0].c = 0\n",
    "        self.splines[self.n-1].c = 0\n",
    "\n",
    "        for i in range(1, self.n-1):\n",
    "            h_i = self.x[i] - self.x[i-1]\n",
    "            h_i_1 = self.x[i+1] - self.x[i]\n",
    "\n",
    "            A_i = h_i\n",
    "            B_i = 2 * (h_i + h_i_1)\n",
    "            C_i = h_i_1\n",
    "            F_i = 3.0 * ((self.y[i + 1] - self.y[i]) / h_i_1 - (self.y[i] - self.y[i - 1]) / h_i)\n",
    "\n",
    "            alpha[i] = -C_i / (A_i * alpha[i - 1] + B_i)\n",
    "            beta[i] = (F_i - A_i * beta[i-1]) / (A_i * alpha[i - 1] + B_i)\n",
    "\n",
    "        for i in range(self.n - 2, 0, -1):\n",
    "            self.splines[i].c = alpha[i] * self.splines[i + 1].c + beta[i]\n",
    "\n",
    "\n",
    "    def __solve_b(self):\n",
    "        for i in range(self.n - 1, 0, -1):\n",
    "            h_i = self.x[i] - self.x[i - 1]\n",
    "\n",
    "            self.splines[i].b =  (self.y[i] - self.y[i - 1]) / h_i + h_i * (2*self.splines[i].c + self.splines[i - 1].c) / 3 \n",
    "        \n",
    "    def __solve_d(self) -> None:\n",
    "        for i in range(self.n - 1, 0, -1):\n",
    "            h_i = self.x[i] - self.x[i - 1]\n",
    "\n",
    "            self.splines[i].d = (self.splines[i].c - self.splines[i - 1].c) / (3 * h_i)\n",
    "\n",
    "    def spline_3D(self, target):\n",
    "\n",
    "        self.__solve_c()\n",
    "        self.__solve_b()\n",
    "        self.__solve_d()\n",
    "\n",
    "        X = np.array([])\n",
    "        Y = np.array([])\n",
    "        for i in range(1, self.n):\n",
    "\n",
    "            if i == 1:\n",
    "                x_i_dence = np.linspace(min(target), self.x[i], self.x[i] - min(target) + 1)\n",
    "            elif i == self.n-1:\n",
    "                x_i_dence = np.linspace(self.x[i-1], max(target), max(target) - self.x[i-1] + 1)\n",
    "            else:\n",
    "                x_i_dence = np.linspace(self.x[i-1], self.x[i], 50)\n",
    "\n",
    "            X = np.concatenate((X, x_i_dence), None)\n",
    "\n",
    "            y_i_dence = np.array([self.splines[i].calc(x) for x in x_i_dence])\n",
    "            Y = np.concatenate((Y, y_i_dence), None)\n",
    "\n",
    "        return X, Y"
   ]
  },
  {
   "cell_type": "markdown",
   "metadata": {},
   "source": [
    "Построим график:"
   ]
  },
  {
   "cell_type": "code",
   "execution_count": 5,
   "metadata": {},
   "outputs": [
    {
     "data": {
      "image/png": "[encoded data removed]",
      "text/plain": [
       "<Figure size 432x288 with 1 Axes>"
      ]
     },
     "metadata": {
      "needs_background": "light"
     },
     "output_type": "display_data"
    },
    {
     "name": "stdout",
     "output_type": "stream",
     "text": [
      "Прогноз на 2010:  314133939\n"
     ]
    }
   ],
   "source": [
    "spline = Splines(years, people)\n",
    "x, y = spline.spline_3D(np.array(range(1900, 2011)))\n",
    "\n",
    "plt.scatter(years, people)\n",
    "plt.scatter(2010, y[list(x).index(2010)])\n",
    "plt.plot(x, y)\n",
    "plt.grid()\n",
    "plt.show()\n",
    "print(\"Прогноз на 2010: \", round(y[list(x).index(2010)]))"
   ]
  },
  {
   "cell_type": "markdown",
   "metadata": {},
   "source": [
    "Как мы видим, более точное значение получается при сплайн-экстраполяции"
   ]
  }
 ],
 "metadata": {
  "kernelspec": {
   "display_name": "Python 3",
   "language": "python",
   "name": "python3"
  },
  "language_info": {
   "codemirror_mode": {
    "name": "ipython",
    "version": 3
   },
   "file_extension": ".py",
   "mimetype": "text/x-python",
   "name": "python",
   "nbconvert_exporter": "python",
   "pygments_lexer": "ipython3",
   "version": "3.8.10"
  }
 },
 "nbformat": 4,
 "nbformat_minor": 4
}
