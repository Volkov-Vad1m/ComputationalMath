{
 "cells": [
  {
   "cell_type": "markdown",
   "metadata": {},
   "source": [
    "# Лабораторная работа 3 \n",
    "Выполнил: Волков Вадим, Б01-007.\n",
    "Исходный код [здесь](https://github.com/Volkov-Vad1m/ComputationalMath) \n",
    "## Ход работы\n",
    "### Метод простой итерации\n",
    "Выберем уравнение 12.4(л)  \n",
    "$$x2^{x} -1 = 0$$  \n",
    "Производная обращается в ноль в точке $$x = -1/{ln2}$$  \n",
    "До этой точки функции убывает и отрицательна, после - возрастает. Следовательно, корень будет один  \n",
    "Построим график:"
   ]
  },
  {
   "cell_type": "code",
   "execution_count": 1,
   "metadata": {},
   "outputs": [
    {
     "data": {
      "image/png": "[encoded data removed]",
      "text/plain": [
       "<Figure size 432x288 with 1 Axes>"
      ]
     },
     "metadata": {
      "needs_background": "light"
     },
     "output_type": "display_data"
    }
   ],
   "source": [
    "from scipy.optimize import fsolve\n",
    "import numpy as np\n",
    "import matplotlib.pyplot as plt\n",
    "import math\n",
    "EPSILON = 1E-5\n",
    "\n",
    "def f(x):\n",
    "    return x*pow(2,x) - 1\n",
    "\n",
    "x = np.linspace(-1, 1, 1000)\n",
    "plt.plot(x, f(x))\n",
    "plt.grid()\n",
    "plt.show()"
   ]
  },
  {
   "cell_type": "markdown",
   "metadata": {},
   "source": [
    "Метод простой итерации: $$x_{n} = 2^{-x_{n-1}}$$  \n",
    "Построим график:"
   ]
  },
  {
   "cell_type": "code",
   "execution_count": 2,
   "metadata": {},
   "outputs": [
    {
     "data": {
      "image/png": "[encoded data removed]",
      "text/plain": [
       "<Figure size 432x288 with 1 Axes>"
      ]
     },
     "metadata": {
      "needs_background": "light"
     },
     "output_type": "display_data"
    }
   ],
   "source": [
    "def phi(x):\n",
    "    return pow(2, -x)\n",
    "\n",
    "x = np.linspace (0.01, 1, 1000)\n",
    "plt.plot(x, abs(phi(x)))\n",
    "plt.grid()\n",
    "plt.show()"
   ]
  },
  {
   "cell_type": "markdown",
   "metadata": {},
   "source": [
    "За область локализации возьмём отрезок [0, 1]  \n",
    "Метод поиска корня через МПИ:  "
   ]
  },
  {
   "cell_type": "code",
   "execution_count": 3,
   "metadata": {},
   "outputs": [],
   "source": [
    "def msi(x_0):\n",
    "    iters = 0\n",
    "    x_cur = x_0\n",
    "    x_prev = 0\n",
    "\n",
    "    while(abs(x_cur - x_prev) > EPSILON):\n",
    "        x_prev = x_cur\n",
    "        \n",
    "        x_cur = phi(x_prev)\n",
    "\n",
    "        iters += 1\n",
    "        \n",
    "    return x_cur, iters"
   ]
  },
  {
   "cell_type": "markdown",
   "metadata": {},
   "source": [
    "Результаты:"
   ]
  },
  {
   "cell_type": "code",
   "execution_count": 4,
   "metadata": {},
   "outputs": [
    {
     "name": "stdout",
     "output_type": "stream",
     "text": [
      "Метод простой итерации\n",
      "x = 0.6411875369990754\n",
      "iters = 14\n",
      "Подставим корень в исходное уравнение\n",
      "4.0380590178301645e-06\n",
      "Через fsolve\n",
      "x = 0.641185744504986\n"
     ]
    }
   ],
   "source": [
    "x, iters = msi(0.8)\n",
    "print(\"Метод простой итерации\")\n",
    "print(\"x =\", x)\n",
    "print(\"iters =\", iters)\n",
    "print(\"Подставим корень в исходное уравнение\")\n",
    "print(f(x))\n",
    "\n",
    "x = fsolve(f, 0.5)\n",
    "print(\"Через fsolve\")\n",
    "print(\"x =\", x[0])"
   ]
  },
  {
   "cell_type": "markdown",
   "metadata": {},
   "source": [
    "### Метод Ньютона  \n",
    "Выберем систему 12.5(г)  \n",
    "\n",
    "$$F_1 = sin(x+2) - y - 1.5$$ \n",
    "$$F_2 = cos(y-2) + x - 0.5$$ \n",
    "По графику видно, что корень всего один.  \n",
    "\n",
    "Матрица Якоби:  \n",
    "\n",
    "$$\\begin{equation*}\n",
    "J = \\left(\n",
    "\\begin{array}{cccc}\n",
    "cos(x+2) & -1 \\\\\n",
    "1 & -sin(y-2) \n",
    "\\end{array}\n",
    "\\right)\n",
    "\\end{equation*}$$\n",
    "Обратная матрица Якоби:  \n",
    "\n",
    "$$\\begin{equation*}\n",
    "J^{-1} = \\frac{1}{det}\\left(\n",
    "\\begin{array}{cccc}\n",
    "-sin(y-2)  & 1 \\\\\n",
    "-1 & cos(x+2)\n",
    "\\end{array}\n",
    "\\right)\n",
    "\\end{equation*}$$\n",
    "где   \n",
    "$$det = -cos(x+2)sin(y-2) + 1$$"
   ]
  },
  {
   "cell_type": "code",
   "execution_count": 5,
   "metadata": {},
   "outputs": [
    {
     "name": "stdout",
     "output_type": "stream",
     "text": [
      "Метод Ньютона\n",
      "x = 1.3463376449191484\n",
      "y = -1.703317484248414\n",
      "iters = 107\n",
      "Подставим корни в исходную систему\n",
      "0.0\n",
      "2.220446049250313e-16\n"
     ]
    }
   ],
   "source": [
    "def F_1(x, y):\n",
    "    return np.sin(x+2) - y - 1.5\n",
    "\n",
    "def F_2(x, y):\n",
    "    return np.cos(y-2) + x - 0.5\n",
    "#сразу J^-1 * F\n",
    "def revJ_mult_F(x,y):\n",
    "    det = -np.sin(y-2)*np.cos(x+2) + 1\n",
    "    row1 = (-np.sin(y - 2) * F_1(x,y) + F_2(x,y) ) / det\n",
    "    row2 = (-F_1(x,y) + np.cos(x + 2) * F_2(x,y) ) / det\n",
    "    return np.array([row1, row2])\n",
    "\n",
    "def newton(x_0, y_0):\n",
    "    iters = 0\n",
    "    x_cur = x_0\n",
    "    y_cur = y_0\n",
    "    x_prev = 0\n",
    "    y_prev = 0\n",
    "\n",
    "    while((abs(x_cur - x_prev) > EPSILON) and (abs(y_cur - y_prev) > EPSILON)):\n",
    "        x_prev = x_cur\n",
    "        y_prev = y_cur\n",
    "        \n",
    "\n",
    "        arr = revJ_mult_F(x_prev, y_prev)\n",
    "        x_cur = x_prev - arr[0]\n",
    "        y_cur = y_prev - arr[1]\n",
    "\n",
    "        iters += 1\n",
    "\n",
    "    return x_cur, y_cur, iters\n",
    "\n",
    "\n",
    "x, y, iters = newton(153232, -15312321)\n",
    "print(\"Метод Ньютона\")\n",
    "print(\"x =\", x)\n",
    "print(\"y =\", y)\n",
    "print(\"iters =\", iters)\n",
    "\n",
    "print(\"Подставим корни в исходную систему\")\n",
    "print(F_1(x,y))\n",
    "print(F_2(x,y))"
   ]
  },
  {
   "cell_type": "markdown",
   "metadata": {},
   "source": [
    "Как мы видим, метод ньютона сработал при отдалённом начальном приближении."
   ]
  }
 ],
 "metadata": {
  "kernelspec": {
   "display_name": "Python 3",
   "language": "python",
   "name": "python3"
  },
  "language_info": {
   "codemirror_mode": {
    "name": "ipython",
    "version": 3
   },
   "file_extension": ".py",
   "mimetype": "text/x-python",
   "name": "python",
   "nbconvert_exporter": "python",
   "pygments_lexer": "ipython3",
   "version": "3.8.10"
  }
 },
 "nbformat": 4,
 "nbformat_minor": 4
}
