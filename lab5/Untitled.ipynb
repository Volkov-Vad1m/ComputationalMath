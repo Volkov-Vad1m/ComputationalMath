{
 "cells": [
  {
   "cell_type": "markdown",
   "metadata": {},
   "source": [
    "# Лабораторная работа 5 \n",
    "Выполнил: Волков Вадим, Б01-007.\n",
    "Исходный код [здесь](https://github.com/Volkov-Vad1m/ComputationalMath) \n",
    "## Ход работы\n",
    "### Данные (пункт б)"
   ]
  },
  {
   "cell_type": "code",
   "execution_count": 1,
   "metadata": {},
   "outputs": [],
   "source": [
    "import numpy as np\n",
    "import matplotlib.pyplot as plt\n",
    "\n",
    "x = [0, 0.125, 0.25, 0.375, 0.5, 0.625, 0.75, 0.875, 1]\n",
    "f = [0.0,  0.021470,  0.293050, 0.494105, 0.541341, 0.516855, 0.468617, 0.416531,0.367879]"
   ]
  },
  {
   "cell_type": "markdown",
   "metadata": {},
   "source": [
    "Посмотрим, как выглядит функция."
   ]
  },
  {
   "cell_type": "code",
   "execution_count": 2,
   "metadata": {},
   "outputs": [
    {
     "data": {
      "image/png": "[encoded data removed]",
      "text/plain": [
       "<Figure size 432x288 with 1 Axes>"
      ]
     },
     "metadata": {
      "needs_background": "light"
     },
     "output_type": "display_data"
    }
   ],
   "source": [
    "plt.scatter(x, f)\n",
    "plt.show()"
   ]
  },
  {
   "cell_type": "markdown",
   "metadata": {},
   "source": [
    "Методы интегрирования:"
   ]
  },
  {
   "cell_type": "code",
   "execution_count": 3,
   "metadata": {},
   "outputs": [],
   "source": [
    "def trapezoid_method(x, y, r=1):\n",
    "    result = 0\n",
    "    h = x[1] - x[0]\n",
    "    n = len(x)\n",
    "\n",
    "    for i in range(0, n-r, r):\n",
    "        result += ((f[i] + f[i+r]) / 2)\n",
    "    \n",
    "    return result * r * h\n",
    "\n",
    "def simpson_method(x, f):\n",
    "    n = len(x)\n",
    "    h = x[1] - x[0]\n",
    "    result = (h/3) * (f[0] + 2*sum(f[:n-2:2]) + 4*sum(f[1:n-1:2]) + f[n-1])\n",
    "\n",
    "    return result"
   ]
  },
  {
   "cell_type": "markdown",
   "metadata": {},
   "source": [
    "Метод Рунге: $$I = \\frac{r^{p}I_{h} - I_{rh}}{r^{p} - 1}$$  \n",
    "Наши параметры: p = 2, r = 2"
   ]
  },
  {
   "cell_type": "code",
   "execution_count": 5,
   "metadata": {},
   "outputs": [
    {
     "name": "stdout",
     "output_type": "stream",
     "text": [
      "Метод трапеции\n",
      "0.3669885625\n",
      "----------------------------------\n",
      "Метод Симпсона\n",
      "0.36540579166666665\n",
      "----------------------------------\n",
      "Метод трапеции c удвоенной сеткой\n",
      "0.37173687499999997\n",
      "----------------------------------\n",
      "Метод Рунге\n",
      "0.3654057916666667\n",
      "----------------------------------\n"
     ]
    }
   ],
   "source": [
    "p = 2\n",
    "r = 2\n",
    "\n",
    "print(\"Метод трапеции\")\n",
    "I = trapezoid_method(x, f)\n",
    "print(I)\n",
    "print(\"----------------------------------\")\n",
    "\n",
    "print(\"Метод Симпсона\")\n",
    "Is = simpson_method(x, f)\n",
    "print(Is)\n",
    "print(\"----------------------------------\")\n",
    "\n",
    "print(\"Метод трапеции c удвоенной сеткой\")\n",
    "Ir = trapezoid_method(x, f, r)\n",
    "print(Ir)\n",
    "print(\"----------------------------------\")\n",
    "\n",
    "print(\"Метод Рунге\")\n",
    "I_Runge = (pow(r,p) * I - Ir)/(pow(r,p) - 1)\n",
    "print(I_Runge)\n",
    "print(\"----------------------------------\")"
   ]
  },
  {
   "cell_type": "markdown",
   "metadata": {},
   "source": [
    "Сравним результаты:"
   ]
  },
  {
   "cell_type": "code",
   "execution_count": 6,
   "metadata": {},
   "outputs": [
    {
     "name": "stdout",
     "output_type": "stream",
     "text": [
      "Cравним точности\n",
      "Трапеция и Симпсон: 0.0015827708333333579\n",
      "Трапеция и Рунге:  0.0015827708333333024\n",
      "Рунге и Симпсон:  5.551115123125783e-17\n"
     ]
    }
   ],
   "source": [
    "print(\"Cравним точности\")\n",
    "print(\"Трапеция и Симпсон:\", abs(Is - I))\n",
    "print(\"Трапеция и Рунге: \", abs(I - I_Runge))\n",
    "print(\"Рунге и Симпсон: \", abs(I_Runge - Is))"
   ]
  }
 ],
 "metadata": {
  "kernelspec": {
   "display_name": "Python 3",
   "language": "python",
   "name": "python3"
  },
  "language_info": {
   "codemirror_mode": {
    "name": "ipython",
    "version": 3
   },
   "file_extension": ".py",
   "mimetype": "text/x-python",
   "name": "python",
   "nbconvert_exporter": "python",
   "pygments_lexer": "ipython3",
   "version": "3.8.10"
  }
 },
 "nbformat": 4,
 "nbformat_minor": 4
}
