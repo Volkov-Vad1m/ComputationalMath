{
 "cells": [
  {
   "cell_type": "code",
   "execution_count": 10,
   "metadata": {},
   "outputs": [],
   "source": [
    "import numpy as np\n",
    "import matplotlib.pyplot as plt\n",
    "import math"
   ]
  },
  {
   "cell_type": "markdown",
   "metadata": {},
   "source": [
    "# Задача (Вариант 13)\n",
    "$\n",
    "\\begin{cases} \n",
    "\\frac{d}{dx}[k(x)\\frac{du}{dx}] - q(x)u = -f(x), \\\\\n",
    "u(0) = 0, \\\\\n",
    "u(1) = 1, \\\\\n",
    "\\end{cases} \n",
    "$  \n",
    "РазрывнАя: $x_0 = 0.525$  \n",
    "Для неё заданы условия:  \n",
    "$u(x_0 - 0) = u(x_0 + 0)$  \n",
    "$k(x_0 - 0)u_x(x_0 - 0) = k(x_0 + 0)u_x(x_0 + 0)$"
   ]
  },
  {
   "cell_type": "code",
   "execution_count": 11,
   "metadata": {},
   "outputs": [],
   "source": [
    "x0 = 0\n",
    "xL = 1\n",
    "\n",
    "#Пусть сетка будет из 100000\n",
    "L = 100000\n",
    "x = np.linspace(x0, xL, L)\n",
    "\n",
    "x_raz = 0.525 "
   ]
  },
  {
   "cell_type": "markdown",
   "metadata": {},
   "source": [
    "\n",
    "## Поведение функций\n",
    "$$\n",
    "\\begin{equation*}\n",
    "k(x) = \n",
    " \\begin{cases}\n",
    "   x + 1 ,& x < x_0\\\\\n",
    "   x, & x > x_0\n",
    " \\end{cases}\n",
    "\\end{equation*} \n",
    "$$  \n",
    "$$\n",
    "\\begin{equation*}\n",
    "q(x) = \n",
    " \\begin{cases}\n",
    "   \\exp(-x) ,& x < x_0\\\\\n",
    "   \\exp(-x), & x > x_0\n",
    " \\end{cases}\n",
    "\\end{equation*} \n",
    "$$ \n",
    "$$ \n",
    "\\begin{equation*}\n",
    "f(x) = \n",
    " \\begin{cases}\n",
    "   1, & x < x_0\\\\\n",
    "   x^3, & x > x_0\n",
    " \\end{cases}\n",
    "\\end{equation*} \n",
    "$$\n",
    " "
   ]
  },
  {
   "cell_type": "code",
   "execution_count": 12,
   "metadata": {},
   "outputs": [],
   "source": [
    "def k(x):\n",
    "    if(x < x_raz):\n",
    "        return x + 1\n",
    "    else:\n",
    "        return x\n",
    "\n",
    "def q(x):\n",
    "    return math.exp(-x)\n",
    "    \n",
    "def f(x):\n",
    "    if(x < x_raz):\n",
    "        return 1\n",
    "    else:\n",
    "        return x**3"
   ]
  },
  {
   "cell_type": "markdown",
   "metadata": {},
   "source": [
    "# Как решаем?\n",
    "Совокупность точек $x_l = lh, l = \\overline{1 \\div L}$ образуют сеику. Пусть точка разрыва первого рода $x_0$ расположена между узлами $l_\\alpha$ и $l_\\beta$. Сформулируем разностную задачу, заменив во внутренних узловых точказ в исходном дифференциальном уравнении производные конечно разностными отношениями:"
   ]
  },
  {
   "cell_type": "code",
   "execution_count": 13,
   "metadata": {},
   "outputs": [],
   "source": [
    "h = (xL - x0) / (L-1)\n",
    "l_alpha = int(x_raz / h)\n",
    "l_beta = l_alpha + 1"
   ]
  },
  {
   "cell_type": "markdown",
   "metadata": {},
   "source": [
    "$$\n",
    "\\left[\\frac{d}{dx}k(x)\\frac{du}{dx}\\right]_{x = x_l} \\approx \\frac{(k_\\alpha)_{l+1/2}\\displaystyle\\frac{u_{l+1} - u_l}{h} - (k_\\alpha)_{l-1/2}\\displaystyle\\frac{u_{l} - u_{l-1}}{h}}{h}, \\;\\;\\; l = \\overline{1 \\div l_\\alpha - 1}\n",
    "$$\n",
    "\n",
    "$$\n",
    "\\left[\\frac{d}{dx}k(x)\\frac{du}{dx}\\right]_{x = x_l} \\approx \\frac{(k_\\beta)_{l+1/2}\\displaystyle\\frac{u_{l+1} - u_l}{h} - (k_\\beta)_{l-1/2}\\displaystyle\\frac{u_{l} - u_{l-1}}{h}}{h}, \\;\\;\\; l = \\overline{l_\\beta + 1 \\div L - 1}\n",
    "$$"
   ]
  },
  {
   "cell_type": "markdown",
   "metadata": {},
   "source": [
    "Где:  \n",
    "$k_\\alpha(x_l \\pm h/2) = k_\\alpha(x_{l \\pm 1/2}) = (k_\\alpha)_{l \\pm 1/2}$  \n",
    "$k_\\beta(x_l \\pm h/2) = k_\\beta(x_{l \\pm 1/2}) =(k_\\beta)_{l \\pm 1/2} $  "
   ]
  },
  {
   "cell_type": "markdown",
   "metadata": {},
   "source": [
    "После подстановки этих выражений в дифференциальное уравнение приходим к системе линейных уравнений порядка $L-3$ относительно $L+1$ неизввестного значения сеточной функции $u_l$\n",
    "\n",
    "$\\displaystyle\\frac{(k_\\alpha)_{l+1/2}(u_{l+1} - u_l) - (k_\\alpha)_{l-1/2}(u_{l} - u_{l-1})}{h^2} - (q_\\alpha)_l u_l = -(f_\\alpha)_l, \\hspace{5mm}  l = \\overline{1 \\div l_\\alpha - 1}$\n",
    "\n",
    "$\\displaystyle\\frac{(k_\\beta)_{l+1/2}(u_{l+1} - u_l) - (k_\\beta)_{l-1/2}(u_{l} - u_{l-1})}{h^2} - (q_\\beta)_l u_l = -(f_\\beta)_l, \\hspace{5mm} l = \\overline{l_\\beta + 1 \\div L - 1}$"
   ]
  },
  {
   "cell_type": "markdown",
   "metadata": {},
   "source": [
    "Добавляем к этой басне краевые усорвия и условия сопряжения на разрыве, получаем еще четыре линейных уравнения:  \n",
    "$\\begin{cases}\n",
    "u_0 = u^0, \\\\\n",
    "u_{l_\\alpha} = u_{l_\\beta}, \\\\\n",
    "(k_\\alpha)_{l_\\alpha}\\displaystyle\\frac{u_{l_\\alpha} - u_{l_\\alpha - 1}}{h} = \n",
    "(k_\\beta)_{l_\\beta}\\displaystyle\\frac{u_{l_\\beta + 1} - u_{l_\\beta}}{h}, \\\\\n",
    "u_L = u^1\n",
    "\\end{cases}\n",
    "$"
   ]
  },
  {
   "cell_type": "markdown",
   "metadata": {},
   "source": [
    "Преобразовывая две системы выше, группируем члены с одинаковыми неизвестными и введём обозначения:\n",
    "$$\n",
    "\\begin{cases}\n",
    "a_l = (k_\\alpha)_{l + 1/2} \\\\\n",
    "b_l = -\\left[(k_\\alpha)_{l + 1/2} + (k_\\alpha)_{l - 1/2} + (q_\\alpha)_l h^2 \\right] \\\\\n",
    "c_l = (k_\\alpha)_{l - 1/2} \\\\\n",
    "d_l = -(f_\\alpha)_l h^2 \\\\\n",
    "\\end{cases}\n",
    "\\hspace{20mm} l = \\overline{1 \\div l_\\alpha - 1}\n",
    "$$\n",
    "\n",
    "$$\n",
    "\\begin{cases}\n",
    "a_l = (k_\\beta)_{l + 1/2} \\\\\n",
    "b_l = -\\left[(k_\\beta)_{l + 1/2} + (k_\\beta)_{l - 1/2} + (q_\\beta)_l h^2\\right] \\\\\n",
    "c_l = (k_\\beta)_{l - 1/2} \\\\\n",
    "d_l = -(f_\\beta)_l h^2 \\\\\n",
    "\\end{cases}\n",
    "\\hspace{20mm} l = \\overline{l_\\beta + 1 \\div L - 1}\n",
    "$$"
   ]
  },
  {
   "cell_type": "code",
   "execution_count": 14,
   "metadata": {},
   "outputs": [],
   "source": [
    "def get_coeffs_reduced_equation(l_alpha, l_beta, x0, xL, L):\n",
    "    h = (xL - x0) / (L-1)\n",
    "\n",
    "    a = np.zeros(L)\n",
    "    b = np.zeros(L)\n",
    "    c = np.zeros(L)\n",
    "    d = np.zeros(L)\n",
    "\n",
    "    for l in range(1, l_alpha):\n",
    "        a[l] = k(l*h + h/2)\n",
    "        b[l] = -( k(l*h + h/2) + k(l*h - h/2) + q(l*h) * h * h )\n",
    "        c[l] = k(l*h - h/2)\n",
    "        d[l] = -f(l* h) * h * h\n",
    "\n",
    "    for l in range(l_beta + 1, L-1):\n",
    "        a[l] = k(l*h + h/2)\n",
    "        b[l] = -( k(l*h + h/2) + k(l*h - h/2) + q(l*h) * h * h )\n",
    "        c[l] = k(l*h - h/2)\n",
    "        d[l] = -f(l*h) * h * h\n",
    "    \n",
    "    return a, b, c, d"
   ]
  },
  {
   "cell_type": "markdown",
   "metadata": {},
   "source": [
    "Тогда система переписывается в виде:\n",
    "$$\n",
    "\\begin{cases}\n",
    "u_0 = u^0, \\\\\n",
    "a_l u_{l+1} + b_l u_l + c_l u_{l - 1} = d_l, \\\\\n",
    "u_{l_\\alpha} = u_{l_\\beta}, \\\\\\\\\n",
    "(k_\\alpha)_{l_\\alpha}(u_{l_\\alpha} - u_{l_\\alpha - 1}) = (k_\\beta)_{l_\\beta}(u_{l_\\beta + 1} - u_{l_\\beta}), \\\\\n",
    "a_l u_{l+1} + b_l u_l + c_l u_{l - 1} = d_l,  \\\\\n",
    "u_L = u^1\n",
    "\\end{cases}\n",
    "$$"
   ]
  },
  {
   "cell_type": "markdown",
   "metadata": {},
   "source": [
    "# Прогонка\n",
    "Для начала разрешаем относительно $u_1$, подставляя $u_0$ во второе при $l=1$:\n",
    "\n",
    "$u_1 =  -\\frac{a_1}{b_1} u_2 + \\frac{d_1 - c_1 u_0}{b_1} = \\alpha_1 u_2 + \\beta_1\\\\$  \n",
    "Аналогично для $u_{L - 1}$:\n",
    "      \n",
    "$u_{L - 1} = -\\frac{c_{L - 1}}{b_{L - 1}}u_{L - 2} + \\frac{d_{L - 1} - c_{L - 1} u_L}{b_{L - 1}} = \\alpha_{L - 1} u_{L - 2} + \\beta_{L - 1}$  \n",
    "\n",
    "  "
   ]
  },
  {
   "attachments": {},
   "cell_type": "markdown",
   "metadata": {},
   "source": [
    "Затем выражаем $u_l$:  \n",
    "      \n",
    "$u_{l - 1} = \\alpha_{l - 1} u_l + \\beta_{l - 1}, \\hspace{15mm} l = \\overline{1 \\div l_\\alpha - 1} \\\\\n",
    "u_{l + 1} = \\alpha_{l + 1} u_l + \\beta_{l + 1}, \\hspace{15mm} l = \\overline{L - 1 \\div l_\\beta + 1}$   \n",
    "Где прогоночные коэффициенты:  \n",
    "$$\n",
    "\\\\\n",
    "\\begin{cases}\n",
    "\\alpha_l = -\\displaystyle\\frac{a_l}{b_l + c_l \\alpha_{l-1}} \\\\\n",
    "\\beta_l  =  \\displaystyle\\frac{d_l - c_l \\beta_{l-1}}{b_l + c_l \\alpha_{l - 1}}\n",
    "\\end{cases}\n",
    "l = \\overline{2 \\div l_\\alpha - 1}\n",
    "$$\n",
    "\n",
    "$$\n",
    "\\begin{cases}\n",
    "\\alpha_l = -\\displaystyle\\frac{c_l}{b_l + a_l \\alpha_{l+1}} \\\\\n",
    "\\beta_l  =  \\displaystyle\\frac{d_l - a_l \\beta_{l+1}}{b_l + a_l \\alpha_{l + 1}}\n",
    "\\end{cases}\n",
    "l = \\overline{L - 2 \\div l_\\beta + 1}\n",
    "$$"
   ]
  },
  {
   "cell_type": "code",
   "execution_count": 15,
   "metadata": {},
   "outputs": [],
   "source": [
    "def get_run_through_coeffs(a, b, c, d, L, u0, uL):\n",
    "\n",
    "    alpha = np.zeros(L)\n",
    "    beta  = np.zeros(L)\n",
    "\n",
    "    alpha[1] = -a[1] / b[1]\n",
    "    beta[1]  = (d[1] - c[1] * u0) / b[1]\n",
    "\n",
    "    alpha[L - 2] = -c[L - 2] / b[L - 2]\n",
    "    beta[L - 2]  = (d[L - 2] - c[L - 2] * uL) / b[L - 2]\n",
    "\n",
    "    for l in range(2, l_alpha):\n",
    "        alpha[l] = -a[l] / (b[l] +c[l] * alpha[l - 1])\n",
    "        beta[l]  = (d[l] - c[l] * beta[l - 1]) / (b[l] + c[l] *alpha[l - 1])\n",
    "\n",
    "    for l in range(L - 3, l_beta, -1):\n",
    "        alpha[l] = -c[l] / (b[l] + a[l] * alpha[l + 1])\n",
    "        beta[l]  = (d[l] - a[l] * beta[l + 1]) / (b[l] + a[l] * alpha[l + 1])\n",
    "    \n",
    "    return alpha, beta\n"
   ]
  },
  {
   "cell_type": "markdown",
   "metadata": {},
   "source": [
    "У разрывной точки, рассматривая поподробней, получаем следующие уравнения:\n",
    "$$\n",
    "\\begin{cases}\n",
    "u_{l_\\alpha} = u_{l_\\beta} = \\displaystyle\\frac{(k_\\alpha)_{l_\\alpha}\\beta_{l_\\alpha - 1} + (k_\\beta)_{l_\\beta}\\beta_{l_\\beta + 1}}{(k_\\alpha)_{l_\\alpha}(1 - \\alpha_{l_\\alpha - 1}) + (k_\\beta)_{l_\\beta} (1 - \\alpha_{l_\\beta + 1})} \\\\\n",
    "u_{l_\\alpha - 1} = \\alpha_{l_\\alpha - 1} u_{l_\\alpha} + \\beta_{l_\\alpha - 1} \\\\\n",
    "u_{l_\\beta + 1} = \\alpha_{l_\\beta + 1} u_{l_\\beta} + \\beta_{l_\\beta + 1}\n",
    "\\end{cases}\n",
    "$$"
   ]
  },
  {
   "cell_type": "markdown",
   "metadata": {},
   "source": [
    "В конце, выполняем обратную прогонку, и получаем сеточную функцию $u$"
   ]
  },
  {
   "cell_type": "code",
   "execution_count": 16,
   "metadata": {},
   "outputs": [
    {
     "data": {
      "image/png": "[encoded data removed]",
      "text/plain": [
       "<Figure size 640x480 with 1 Axes>"
      ]
     },
     "metadata": {},
     "output_type": "display_data"
    }
   ],
   "source": [
    "def get_solution(l_alpha, l_beta, x0 = 0, xL = 1, L = 100000, u0 = 0, uL = 1):\n",
    "\n",
    "    a, b, c, d = get_coeffs_reduced_equation(l_alpha, l_beta, x0, xL, L)\n",
    "    alpha, beta = get_run_through_coeffs(a, b, c, d, L, u0, uL)\n",
    "\n",
    "    u = np.zeros(L)\n",
    "\n",
    "    u[0] = u0\n",
    "    u[L-1] = uL\n",
    "\n",
    "    u[l_alpha] = (k(l_alpha*h) * beta[l_alpha - 1] + k(l_beta*h) *beta[l_beta + 1]) / ( k(l_alpha*h) * (1 - alpha[l_alpha - 1]) + k(l_beta*h) * (1 - alpha[l_beta + 1]) )\n",
    "    u[l_beta] = u[l_alpha]\n",
    "\n",
    "    u[l_alpha - 1] = alpha[l_alpha - 1] * u[l_alpha] + beta[l_alpha - 1]\n",
    "    u[l_beta + 1] = alpha[l_beta + 1] * u[l_beta] + beta[l_beta + 1]\n",
    "\n",
    "    for l in range(l_alpha - 1, 0, -1):\n",
    "        u[l] = alpha[l] * u[l + 1] + beta[l]\n",
    "\n",
    "    for l in range(l_beta + 1, L-1):\n",
    "        u[l] = alpha[l] * u[l - 1] + beta[l]\n",
    "\n",
    "    return u\n",
    "\n",
    "\n",
    "u = get_solution(l_alpha, l_beta)\n",
    "\n",
    "plt.plot(x, u)\n",
    "plt.title(\"u(x)\")\n",
    "plt.xlabel(\"x\")\n",
    "plt.ylabel(\"u(x)\")\n",
    "plt.grid()\n",
    "plt.show()"
   ]
  }
 ],
 "metadata": {
  "kernelspec": {
   "display_name": "Python 3 (ipykernel)",
   "language": "python",
   "name": "python3"
  },
  "language_info": {
   "codemirror_mode": {
    "name": "ipython",
    "version": 3
   },
   "file_extension": ".py",
   "mimetype": "text/x-python",
   "name": "python",
   "nbconvert_exporter": "python",
   "pygments_lexer": "ipython3",
   "version": "3.10.6"
  }
 },
 "nbformat": 4,
 "nbformat_minor": 2
}
